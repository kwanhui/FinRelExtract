{
 "cells": [
  {
   "cell_type": "code",
   "execution_count": 1,
   "id": "4c102d45",
   "metadata": {},
   "outputs": [
    {
     "name": "stdout",
     "output_type": "stream",
     "text": [
      "preprocess_data-TPrN\n"
     ]
    }
   ],
   "source": [
    "import json\n",
    "import csv\n",
    "import pandas\n",
    "import pandas as pd\n",
    "\n",
    "# original json files\n",
    "f = open('./Dataset/train_refind_official.json') # training set\n",
    "fd = open('./Dataset/dev_refind_official.json') # dev set\n",
    "ft = open('./Dataset/test_refind_official.json') # test set\n",
    "\n",
    "\n",
    "int_to_label = {\n",
    "'': '',\n",
    "0: 'no_relation',\n",
    "1: 'org:date:formed_on',\n",
    "2: 'org:gpe:operations_in',\n",
    "3: 'pers:org:member_of',\n",
    "4: 'pers:org:employee_of',\n",
    "5: 'pers:gov_agy:member_of',\n",
    "6: 'org:org:acquired_by',\n",
    "7: 'org:money:loss_of',\n",
    "8: 'org:gpe:headquartered_in',\n",
    "9: 'pers:univ:employee_of',\n",
    "10: 'org:date:acquired_on',\n",
    "11: 'pers:univ:attended',\n",
    "12: 'org:gpe:formed_in',\n",
    "13: 'org:money:profit_of',\n",
    "14: 'org:money:cost_of',\n",
    "15: 'org:org:subsidiary_of',\n",
    "16: 'org:org:shares_of',\n",
    "17: 'pers:org:founder_of',\n",
    "18: 'pers:title:title',\n",
    "19: 'org:money:revenue_of',\n",
    "20: 'org:org:agreement_with',\n",
    "21: 'pers:univ:member_of'}\n",
    "label_mapping = {v: k for k, v in int_to_label.items()}\n",
    "\n",
    "raw_data = json.load(f)\n",
    "raw_datad = json.load(fd)\n",
    "raw_datat = json.load(ft)\n",
    "\n",
    "# str: rel_group, e1_type, e2_type\n",
    "# list of str: token, spacy_pos, spacy_ner, spacy_deprel, sdp\n",
    "# numbers: e1_start, e1_end, e2_start, e2_end,\n",
    "# list of numbers: spacy_head, sdp_tok_idx\n",
    "\n",
    "def data_preprocessor(cols, raw_data, repNER=False):\n",
    "    label_count = {}\n",
    "    train_data = []\n",
    "\n",
    "    for item in raw_data:\n",
    "        # to deal with formatting issues in private test set, where certain lists are stored as strings\n",
    "        for c in ['spacy_ner', 'spacy_pos']:\n",
    "            if isinstance(item[c], str): \n",
    "                item[c] = list(item[c][2:-2].split(\"', '\"))\n",
    "                    \n",
    "        label_name = item['relation']\n",
    "        label_count[label_name] = label_count.get(label_name, 0) + 1\n",
    "                        \n",
    "        # process token first\n",
    "        text_list = item['token'].copy()\n",
    "        if repNER:\n",
    "            # replace words with the NER token in the original dataset 'spacy_ner' column\n",
    "            NER_list = item['spacy_ner']\n",
    "            for i in range(0, len(NER_list)):\n",
    "                if NER_list[i] != 'O':\n",
    "                    text_list[i] = '[' + NER_list[i] + ']'\n",
    "                    \n",
    "        text = ' '.join(text_list)\n",
    "        \n",
    "\n",
    "        merged_text = text + ' [SEP] [CLS] '\n",
    "        for c in cols:\n",
    "            if c in ['spacy_pos', 'spacy_ner', 'spacy_deprel', 'sdp']:\n",
    "                merged_text = merged_text + ' '.join(item[c]) + ' [SEP] [CLS] '\n",
    "            elif c in ['rel_group', 'e1_type', 'e2_type']:\n",
    "                merged_text = merged_text + item[c] + ' [SEP] [CLS] '\n",
    "            elif c in ['spacy_head', 'sdp_tok_idx' ]:\n",
    "                temp = ', '.join([str(i) for i in item[c]])\n",
    "                merged_text = merged_text + temp + ' [SEP] [CLS] '\n",
    "            elif c in ['e1_start', 'e1_end', 'e2_start', 'e2_end']:\n",
    "                merged_text = merged_text + f', {c} [SEP] [CLS] '\n",
    "            else:\n",
    "                raise ValueError(f'Wrong column name: {c}.')\n",
    "\n",
    "        new_row = {'mergedText': merged_text[:-7], 'label': label_mapping[label_name]}\n",
    "\n",
    "        train_data.append(new_row)\n",
    "    return train_data, label_count\n",
    "\n",
    "# cols = ['spacy_ner', 'spacy_pos']\n",
    "cols = ['spacy_pos']\n",
    "\n",
    "repNER = True\n",
    "version = 'TPrN'\n",
    "\n",
    "print(\"preprocess_data-\"+str(version))\n"
   ]
  },
  {
   "cell_type": "code",
   "execution_count": 2,
   "id": "698c7e7f",
   "metadata": {},
   "outputs": [
    {
     "name": "stdout",
     "output_type": "stream",
     "text": [
      "data_train-TPrN.csv\n"
     ]
    }
   ],
   "source": [
    "data = raw_data\n",
    "OUT_FILENAME = 'data_train-'+version+'.csv'\n",
    "# data = raw_datad\n",
    "# OUT_FILENAME = 'data_dev-'+version+'.csv'\n",
    "# data = raw_datat\n",
    "# OUT_FILENAME = 'data_test-'+version+'.csv'\n",
    "\n",
    "merged_data, label_count = data_preprocessor(cols, data, repNER=repNER)\n",
    "\n",
    "with open(OUT_FILENAME, 'w', encoding='UTF8', newline='') as f:\n",
    "    writer = csv.DictWriter(f, fieldnames=['mergedText', 'label'])\n",
    "    writer.writeheader()\n",
    "    writer.writerows(merged_data)\n",
    "\n",
    "f.close()\n",
    "print(OUT_FILENAME)"
   ]
  },
  {
   "cell_type": "code",
   "execution_count": 3,
   "id": "83b5a1df",
   "metadata": {},
   "outputs": [
    {
     "name": "stdout",
     "output_type": "stream",
     "text": [
      "data_dev-TPrN.csv\n"
     ]
    }
   ],
   "source": [
    "# data = raw_data\n",
    "# OUT_FILENAME = 'data_train-'+version+'.csv'\n",
    "data = raw_datad\n",
    "OUT_FILENAME = 'data_dev-'+version+'.csv'\n",
    "# data = raw_datat\n",
    "# OUT_FILENAME = 'data_test-'+version+'.csv'\n",
    "\n",
    "merged_data, label_count = data_preprocessor(cols, data, repNER=repNER)\n",
    "\n",
    "with open(OUT_FILENAME, 'w', encoding='UTF8', newline='') as f:\n",
    "    writer = csv.DictWriter(f, fieldnames=['mergedText', 'label'])\n",
    "    writer.writeheader()\n",
    "    writer.writerows(merged_data)\n",
    "\n",
    "f.close()\n",
    "print(OUT_FILENAME)"
   ]
  },
  {
   "cell_type": "code",
   "execution_count": 4,
   "id": "a6428544",
   "metadata": {},
   "outputs": [
    {
     "name": "stdout",
     "output_type": "stream",
     "text": [
      "data_test-TPrN.csv\n"
     ]
    }
   ],
   "source": [
    "# data = raw_data\n",
    "# OUT_FILENAME = 'data_train-'+version+'.csv'\n",
    "# data = raw_datad\n",
    "# OUT_FILENAME = 'data_dev-'+version+'.csv'\n",
    "data = raw_datat\n",
    "OUT_FILENAME = 'data_test-'+version+'.csv'\n",
    "\n",
    "merged_data, label_count = data_preprocessor(cols, data, repNER=repNER)\n",
    "\n",
    "with open(OUT_FILENAME, 'w', encoding='UTF8', newline='') as f:\n",
    "    writer = csv.DictWriter(f, fieldnames=['mergedText', 'label'])\n",
    "    writer.writeheader()\n",
    "    writer.writerows(merged_data)\n",
    "\n",
    "f.close()\n",
    "print(OUT_FILENAME)"
   ]
  }
 ],
 "metadata": {
  "kernelspec": {
   "display_name": "Python 3 (ipykernel)",
   "language": "python",
   "name": "python3"
  },
  "language_info": {
   "codemirror_mode": {
    "name": "ipython",
    "version": 3
   },
   "file_extension": ".py",
   "mimetype": "text/x-python",
   "name": "python",
   "nbconvert_exporter": "python",
   "pygments_lexer": "ipython3",
   "version": "3.11.3"
  }
 },
 "nbformat": 4,
 "nbformat_minor": 5
}
